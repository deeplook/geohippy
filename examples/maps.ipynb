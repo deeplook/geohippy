{
 "cells": [
  {
   "cell_type": "markdown",
   "id": "eb60307c-d8fb-4407-af9e-17bd51ed677e",
   "metadata": {
    "tags": []
   },
   "source": [
    "# Map examples\n",
    "\n",
    "This notebook loads some simple GeoJSON data containing lines for submarine cables from [submarinecablemap.com](http://www.submarinecablemap.com) and displays them on various maps, where you can pan and zoom and, sometimes, also tilt and rotate the map."
   ]
  },
  {
   "cell_type": "markdown",
   "id": "747e9bce-2358-4814-889d-3420796e36b8",
   "metadata": {},
   "source": [
    "## Load dataset"
   ]
  },
  {
   "cell_type": "code",
   "execution_count": null,
   "id": "dbdc170c-c711-4fbf-8c1d-3c3686ec82d0",
   "metadata": {},
   "outputs": [],
   "source": [
    "from IPython.display import JSON\n",
    "import requests\n",
    "\n",
    "url = (\n",
    "    \"https://raw.githubusercontent.com/telegeography/www.submarinecablemap.com\"\n",
    "    \"/master/web/public/api/v3/cable/cable-geo.json\"\n",
    ")\n",
    "data = requests.get(url).json()\n",
    "style_callback = lambda feat: {\"color\": feat[\"properties\"][\"color\"]}\n",
    "JSON(data)"
   ]
  },
  {
   "cell_type": "code",
   "execution_count": null,
   "id": "cc6090df-05d1-40a2-a801-a5b86b034756",
   "metadata": {},
   "outputs": [],
   "source": [
    "def hex_to_rgb(value):\n",
    "    value = value.lstrip('#')\n",
    "    return list(int(value[i:i+2], 16) for i in (0, 2, 4))\n",
    "\n",
    "for feat in data[\"features\"]:\n",
    "    feat[\"properties\"][\"rgbcolor\"] = hex_to_rgb(feat[\"properties\"][\"color\"])"
   ]
  },
  {
   "cell_type": "markdown",
   "id": "728e3f30-cf1d-4359-98cb-a9f5f41082d3",
   "metadata": {},
   "source": [
    "The `data` and `style_callback` identifiers are reused in the sections below."
   ]
  },
  {
   "cell_type": "markdown",
   "id": "0ae8c71b-b26c-4687-a260-5371a314720f",
   "metadata": {},
   "source": [
    "## Ipyleaflet"
   ]
  },
  {
   "cell_type": "code",
   "execution_count": null,
   "id": "5aabfcf6-85bd-46b7-ad81-b7be0177c8b5",
   "metadata": {},
   "outputs": [],
   "source": [
    "from ipyleaflet import Map, GeoJSON\n",
    "\n",
    "m = Map(center=[20, 0], zoom=2)\n",
    "m += GeoJSON(data=data, style_callback=style_callback)\n",
    "m.layout.height = \"450px\"\n",
    "m"
   ]
  },
  {
   "cell_type": "markdown",
   "id": "1e641198-812b-4e00-a06a-1468306de5b2",
   "metadata": {},
   "source": [
    "## Folium"
   ]
  },
  {
   "cell_type": "code",
   "execution_count": null,
   "id": "7a09e278-917c-4b85-a454-180e3d664f49",
   "metadata": {},
   "outputs": [],
   "source": [
    "import folium\n",
    "\n",
    "m = folium.Map(location=[20, 0], zoom_start=2)\n",
    "geojson = folium.GeoJson(data=data, style_function=style_callback)\n",
    "geojson.add_to(m)\n",
    "m.height = (450, \"px\")\n",
    "m"
   ]
  },
  {
   "cell_type": "markdown",
   "id": "ae36aa22-fa56-4442-82a9-b9c651208696",
   "metadata": {},
   "source": [
    "## Geemap\n",
    "\n",
    "This needs a Google Earth Engine registration. The `style_callback` parameter works as expected in geemap>0.9.2."
   ]
  },
  {
   "cell_type": "code",
   "execution_count": null,
   "id": "f7157788-2c25-44e0-8fce-4484c01c6d3f",
   "metadata": {},
   "outputs": [],
   "source": [
    "import geemap\n",
    "\n",
    "m = geemap.Map(center=[20, 0], zoom=2, height=\"450px\")\n",
    "m.add_geojson(data, style_callback=style_callback)\n",
    "m"
   ]
  },
  {
   "cell_type": "markdown",
   "id": "51047496-70ba-40f5-9487-8feb3627627b",
   "metadata": {},
   "source": [
    "## Leafmap\n",
    "\n",
    "The `style_callback` parameter works as expected in leafmap>0.5.0."
   ]
  },
  {
   "cell_type": "code",
   "execution_count": null,
   "id": "f489e816-15b9-4dcf-aabb-0d97d5f2db37",
   "metadata": {},
   "outputs": [],
   "source": [
    "import leafmap\n",
    "\n",
    "m = leafmap.Map(center=[20, 0], zoom=2, height=\"450px\")\n",
    "m.add_geojson(data, style_callback=style_callback)\n",
    "m"
   ]
  },
  {
   "cell_type": "markdown",
   "id": "c4cebd44-eef7-411b-a2ac-dc8e604d1ab1",
   "metadata": {},
   "source": [
    "## HERE Map Widget\n",
    "\n",
    "This needs a registration for a HERE developer account. The code reads the according API key from the ``HEREMAPS_API_KEY`` environment variable. Set it below or provide the API key directly in the code, instead:"
   ]
  },
  {
   "cell_type": "code",
   "execution_count": null,
   "id": "3c2bb090-80a7-426c-8524-de09b42bad76",
   "metadata": {
    "tags": []
   },
   "outputs": [],
   "source": [
    "import os\n",
    "from here_map_widget import Map, GeoJSON\n",
    "\n",
    "style_callback1 = lambda feat: {\"strokeColor\": feat[\"properties\"][\"color\"]}\n",
    "api_key = os.getenv(\"HEREMAPS_API_KEY\", \"******\")\n",
    "m = Map(center=[20, 0], zoom=1, api_key=api_key)\n",
    "m += GeoJSON(data=data, style_callback=style_callback1)\n",
    "m"
   ]
  },
  {
   "cell_type": "markdown",
   "id": "d1b98101-589d-46f1-b9ef-4227ccb6da55",
   "metadata": {},
   "source": [
    "## HERE Inspector (ipyleaflet)"
   ]
  },
  {
   "cell_type": "code",
   "execution_count": null,
   "id": "2cbe388e-12f6-46ae-8ba0-9b9a693c9575",
   "metadata": {},
   "outputs": [],
   "source": [
    "from here.inspector import inspect\n",
    "\n",
    "inspect(data, zoom=2) # , style=lambda feat: {\"color\": feat[\"properties\"][\"color\"]})"
   ]
  },
  {
   "cell_type": "markdown",
   "id": "5921ec2e-1d14-4c08-af36-323ac6c9d944",
   "metadata": {},
   "source": [
    "## Deck.gl"
   ]
  },
  {
   "cell_type": "code",
   "execution_count": null,
   "id": "5473f75b-750b-4436-a37e-889ecc909992",
   "metadata": {},
   "outputs": [],
   "source": [
    "import pydeck\n",
    "\n",
    "pydeck.settings.custom_libraries = [\n",
    "    {\n",
    "        \"libraryName\": \"LabeledGeoJsonLayerLibrary\",\n",
    "        \"resourceUri\": \"https://unpkg.com/pydeck-custom-layer-demo/dist/bundle.js\",\n",
    "    }\n",
    "]\n",
    "\n",
    "geojson_layer = pydeck.Layer(\n",
    "    \"LabeledGeoJsonLayer\",\n",
    "    data=data,\n",
    "    filled=False,\n",
    "    billboard=False,\n",
    "    get_line_color=\"properties.rgbcolor\",\n",
    "    label_size_units=pydeck.types.String(\"meters\"),\n",
    "    line_width_min_pixels=2,\n",
    ")\n",
    "\n",
    "initial_view_state = pydeck.ViewState(latitude=20, longitude=0, zoom=1, max_zoom=16, pitch=0, bearing=0)\n",
    "r = pydeck.Deck(\n",
    "    layers=[geojson_layer],\n",
    "    initial_view_state=initial_view_state,\n",
    "    map_provider=\"carto\",\n",
    "    map_style=\"light\"\n",
    ")\n",
    "r.to_html(\"cables_deckgl.html\", css_background_color=\"#333\")"
   ]
  },
  {
   "cell_type": "markdown",
   "id": "ee049e3d-5edb-43f3-865f-39d3cc602cdc",
   "metadata": {},
   "source": [
    "## Kepler.gl"
   ]
  },
  {
   "cell_type": "code",
   "execution_count": null,
   "id": "9f67f7a7-83fa-44ec-b8ee-b7b890d9eb9e",
   "metadata": {},
   "outputs": [],
   "source": [
    "from keplergl import KeplerGl\n",
    "\n",
    "config = {\"version\": \"v1\", \"config\": {\"mapState\": {\"latitude\": 20.0, \"longitude\": 0.0, \"zoom\": 1}}}\n",
    "m = KeplerGl(height=450, config=config)\n",
    "m.add_data(data=data, name=\"Cables\")\n",
    "m"
   ]
  },
  {
   "cell_type": "markdown",
   "id": "46e720d8-5b30-4413-9d5b-5f250ec76780",
   "metadata": {},
   "source": [
    "## Mapbox GL"
   ]
  },
  {
   "cell_type": "code",
   "execution_count": null,
   "id": "c4adc2bb-970a-48c5-b58a-1705a9d37d95",
   "metadata": {},
   "outputs": [],
   "source": [
    "import os\n",
    "from mapboxgl.viz import LinestringViz\n",
    "\n",
    "token = os.getenv(\"MAPBOX_TOKEN\", '******')\n",
    "viz = LinestringViz(\n",
    "    data,\n",
    "    access_token=token, \n",
    "    height='450px',\n",
    "    # color_property = \"property.color\",\n",
    "    center=(20, 0),\n",
    "    zoom=1)\n",
    "viz.show()"
   ]
  },
  {
   "cell_type": "code",
   "execution_count": null,
   "id": "86c909c6-1454-4e07-bb74-78604281a842",
   "metadata": {},
   "outputs": [],
   "source": []
  }
 ],
 "metadata": {
  "kernelspec": {
   "display_name": "Python 3 (ipykernel)",
   "language": "python",
   "name": "python3"
  },
  "language_info": {
   "codemirror_mode": {
    "name": "ipython",
    "version": 3
   },
   "file_extension": ".py",
   "mimetype": "text/x-python",
   "name": "python",
   "nbconvert_exporter": "python",
   "pygments_lexer": "ipython3",
   "version": "3.9.7"
  }
 },
 "nbformat": 4,
 "nbformat_minor": 5
}

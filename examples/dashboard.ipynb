{
 "cells": [
  {
   "cell_type": "markdown",
   "metadata": {},
   "source": [
    "# Dashboard\n",
    "\n",
    "This \"dashboard\" for now only shows the state of a vanilla [Redis](https://redis.io) server (on/off) and allows to toggle it by pressing on the button."
   ]
  },
  {
   "cell_type": "code",
   "execution_count": 54,
   "metadata": {},
   "outputs": [],
   "source": [
    "from multiprocessing import Process\n",
    "import time\n",
    "\n",
    "from ipywidgets import Button\n",
    "import redis\n",
    "\n",
    "from workers import start_redis"
   ]
  },
  {
   "cell_type": "code",
   "execution_count": 55,
   "metadata": {},
   "outputs": [
    {
     "data": {
      "application/vnd.jupyter.widget-view+json": {
       "model_id": "a9a18f8392324b2ea9ab664aac2ffe14",
       "version_major": 2,
       "version_minor": 0
      },
      "text/plain": [
       "Button(button_style='success', description='Redis Server', icon='check', style=ButtonStyle(), tooltip='Click t…"
      ]
     },
     "metadata": {},
     "output_type": "display_data"
    }
   ],
   "source": [
    "def redis_running():\n",
    "    try:\n",
    "        r = redis.Redis()\n",
    "        r.info()\n",
    "        return True\n",
    "    except:\n",
    "        return False\n",
    "\n",
    "\n",
    "def style(button, state=True):\n",
    "    if state:\n",
    "        button.button_style = \"success\"\n",
    "        button.icon = \"check\"\n",
    "        button.tooltip = \"Click to stop...\"\n",
    "    else:\n",
    "        button.button_style = \"danger\"\n",
    "        button.icon = \"exclamation-triangle\"\n",
    "        button.tooltip = \"Click to start...\"\n",
    "\n",
    "\n",
    "def click_redis(bt):\n",
    "    \"\"\"Start/stop redis server.\n",
    "    \"\"\"\n",
    "    if redis_running():\n",
    "        try:\n",
    "            r = redis.Redis()\n",
    "            r.shutdown()\n",
    "        except:\n",
    "            pass\n",
    "    else:\n",
    "        p = Process(target=start_redis, args=('bob',))\n",
    "        p.start()\n",
    "        time.sleep(2)\n",
    "    style(bt, state=redis_running())\n",
    "\n",
    "\n",
    "redis_bt = Button(description=\"Redis Server\")\n",
    "redis_bt.on_click(click_redis)\n",
    "style(redis_bt, state=redis_running())\n",
    "redis_bt"
   ]
  }
 ],
 "metadata": {
  "kernelspec": {
   "display_name": "Python 3",
   "language": "python",
   "name": "python3"
  },
  "language_info": {
   "codemirror_mode": {
    "name": "ipython",
    "version": 3
   },
   "file_extension": ".py",
   "mimetype": "text/x-python",
   "name": "python",
   "nbconvert_exporter": "python",
   "pygments_lexer": "ipython3",
   "version": "3.8.0"
  }
 },
 "nbformat": 4,
 "nbformat_minor": 4
}

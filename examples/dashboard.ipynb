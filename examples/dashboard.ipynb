{
 "cells": [
  {
   "cell_type": "markdown",
   "metadata": {},
   "source": [
    "# Dashboard\n",
    "\n",
    "This \"dashboard\" for now only shows the state of a vanilla [Redis](https://redis.io) server (on/off) and allows to toggle it by pressing on the button. It's recommended to opn this notebook as a [Voilà](https://voila.readthedocs.io) dashboard by clicking on the Voilà icon in the notebook's toolbar."
   ]
  },
  {
   "cell_type": "code",
   "execution_count": null,
   "metadata": {},
   "outputs": [],
   "source": [
    "from dashboard import make_redis_button\n",
    "\n",
    "redis_button = make_redis_button()\n",
    "redis_button"
   ]
  }
 ],
 "metadata": {
  "kernelspec": {
   "display_name": "Python 3",
   "language": "python",
   "name": "python3"
  },
  "language_info": {
   "codemirror_mode": {
    "name": "ipython",
    "version": 3
   },
   "file_extension": ".py",
   "mimetype": "text/x-python",
   "name": "python",
   "nbconvert_exporter": "python",
   "pygments_lexer": "ipython3",
   "version": "3.8.0"
  }
 },
 "nbformat": 4,
 "nbformat_minor": 4
}

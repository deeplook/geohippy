{
 "cells": [
  {
   "cell_type": "markdown",
   "id": "eb60307c-d8fb-4407-af9e-17bd51ed677e",
   "metadata": {
    "tags": []
   },
   "source": [
    "# Map examples\n",
    "\n",
    "This notebook loads some simple GeoJSON data containing lines for submarine cables from [submarinecablemap.com](http://www.submarinecablemap.com) and displays them on various maps, where you can pan and zoom and, sometimes, also tilt and rotate the map."
   ]
  },
  {
   "cell_type": "code",
   "execution_count": null,
   "id": "dbdc170c-c711-4fbf-8c1d-3c3686ec82d0",
   "metadata": {},
   "outputs": [],
   "source": [
    "import requests\n",
    "\n",
    "url = (\n",
    "    \"https://raw.githubusercontent.com/telegeography/www.submarinecablemap.com\"\n",
    "    \"/master/web/public/api/v3/cable/cable-geo.json\"\n",
    ")\n",
    "data = requests.get(url).json()"
   ]
  },
  {
   "cell_type": "markdown",
   "id": "0ae8c71b-b26c-4687-a260-5371a314720f",
   "metadata": {},
   "source": [
    "## Ipyleaflet"
   ]
  },
  {
   "cell_type": "code",
   "execution_count": null,
   "id": "5aabfcf6-85bd-46b7-ad81-b7be0177c8b5",
   "metadata": {},
   "outputs": [],
   "source": [
    "from ipyleaflet import Map, GeoJSON\n",
    "\n",
    "m = Map(center=[0, 0], zoom=2)\n",
    "m += GeoJSON(\n",
    "    data=data,\n",
    "    style_callback=lambda feat: {\"color\": feat[\"properties\"][\"color\"]},\n",
    "    name = 'Cables'\n",
    ")\n",
    "m"
   ]
  },
  {
   "cell_type": "markdown",
   "id": "1e641198-812b-4e00-a06a-1468306de5b2",
   "metadata": {},
   "source": [
    "## Folium"
   ]
  },
  {
   "cell_type": "code",
   "execution_count": null,
   "id": "7a09e278-917c-4b85-a454-180e3d664f49",
   "metadata": {},
   "outputs": [],
   "source": [
    "import folium\n",
    "\n",
    "m = folium.Map(\n",
    "    location=[0, 0],\n",
    "    zoom_start=2,\n",
    ")\n",
    "geojson = folium.GeoJson(\n",
    "    data=data,\n",
    "    style_function=lambda feat: {\"color\": feat[\"properties\"][\"color\"]}\n",
    ")\n",
    "geojson.add_to(m)\n",
    "m"
   ]
  },
  {
   "cell_type": "markdown",
   "id": "ae36aa22-fa56-4442-82a9-b9c651208696",
   "metadata": {},
   "source": [
    "## Geemap\n",
    "\n",
    "This needs a Google Earth Engine registration."
   ]
  },
  {
   "cell_type": "code",
   "execution_count": null,
   "id": "f7157788-2c25-44e0-8fce-4484c01c6d3f",
   "metadata": {},
   "outputs": [],
   "source": [
    "import geemap\n",
    "\n",
    "m = geemap.Map(center=[0, 0], zoom=2, height=\"450px\")\n",
    "m.add_geojson(\n",
    "    data,\n",
    "    style_callback=lambda feat: {\"color\": feat[\"properties\"][\"color\"]}\n",
    ")\n",
    "m"
   ]
  },
  {
   "cell_type": "markdown",
   "id": "51047496-70ba-40f5-9487-8feb3627627b",
   "metadata": {},
   "source": [
    "## Leafmap\n",
    "\n",
    "The `style_callback` parameter works as expected in leafmap>0.5.0."
   ]
  },
  {
   "cell_type": "code",
   "execution_count": null,
   "id": "f489e816-15b9-4dcf-aabb-0d97d5f2db37",
   "metadata": {},
   "outputs": [],
   "source": [
    "import leafmap\n",
    "\n",
    "m = leafmap.Map(center=[0, 0], zoom=2, height=\"450px\")\n",
    "m.add_geojson(\n",
    "    data,\n",
    "    style_callback=lambda feat: {\"color\": feat[\"properties\"][\"color\"]}\n",
    ")\n",
    "m"
   ]
  },
  {
   "cell_type": "markdown",
   "id": "c4cebd44-eef7-411b-a2ac-dc8e604d1ab1",
   "metadata": {},
   "source": [
    "## HERE Map Widget\n",
    "\n",
    "This reads an API key from the ``HEREMAPS_API_KEY`` environment variable. Set it below or provide the API key directly in the code, instead:"
   ]
  },
  {
   "cell_type": "code",
   "execution_count": null,
   "id": "402c5b2e-eecb-4938-84a5-9e6c2449a7a7",
   "metadata": {},
   "outputs": [],
   "source": [
    "import os\n",
    "os.environ[\"HEREMAPS_API_KEY\"] = \"MY-API-TOKEN\""
   ]
  },
  {
   "cell_type": "code",
   "execution_count": null,
   "id": "3c2bb090-80a7-426c-8524-de09b42bad76",
   "metadata": {},
   "outputs": [],
   "source": [
    "import os\n",
    "\n",
    "from here_map_widget import Map, GeoJSON\n",
    "\n",
    "api_key = os.getenv(\"HEREMAPS_API_KEY\")\n",
    "m = Map(center=[0, 0], zoom=1, api_key=api_key)\n",
    "m += GeoJSON(\n",
    "    data=data,\n",
    "    style_function=lambda feat: {\"strokeColor\": feat[\"properties\"][\"color\"]},\n",
    "    name = 'Cables'\n",
    ")\n",
    "m"
   ]
  },
  {
   "cell_type": "markdown",
   "id": "d1b98101-589d-46f1-b9ef-4227ccb6da55",
   "metadata": {},
   "source": [
    "## HERE Inspector (ipyleaflet)"
   ]
  },
  {
   "cell_type": "code",
   "execution_count": null,
   "id": "2cbe388e-12f6-46ae-8ba0-9b9a693c9575",
   "metadata": {},
   "outputs": [],
   "source": [
    "from here.inspector import inspect\n",
    "\n",
    "inspect(data, zoom=2) # , style=lambda feat: {\"color\": feat[\"properties\"][\"color\"]})"
   ]
  },
  {
   "cell_type": "markdown",
   "id": "5921ec2e-1d14-4c08-af36-323ac6c9d944",
   "metadata": {},
   "source": [
    "## Deck.gl"
   ]
  },
  {
   "cell_type": "code",
   "execution_count": null,
   "id": "5473f75b-750b-4436-a37e-889ecc909992",
   "metadata": {},
   "outputs": [],
   "source": [
    "import pydeck\n",
    "\n",
    "pydeck.settings.custom_libraries = [\n",
    "    {\n",
    "        \"libraryName\": \"LabeledGeoJsonLayerLibrary\",\n",
    "        \"resourceUri\": \"https://unpkg.com/pydeck-custom-layer-demo/dist/bundle.js\",\n",
    "    }\n",
    "]\n",
    "\n",
    "custom_layer = pydeck.Layer(\n",
    "    \"LabeledGeoJsonLayer\",\n",
    "    data=url,\n",
    "    filled=False,\n",
    "    billboard=False,\n",
    "    get_line_color=[180, 180, 180],\n",
    "    get_label=\"properties.name\",\n",
    "    get_label_size=200000,\n",
    "    get_label_color=[0, 255, 255],\n",
    "    label_size_units=pydeck.types.String(\"meters\"),\n",
    "    line_width_min_pixels=1,\n",
    ")\n",
    "\n",
    "view_state = pydeck.ViewState(latitude=0, longitude=0, zoom=1)\n",
    "r = pydeck.Deck(custom_layer, initial_view_state=view_state, map_provider=None)\n",
    "r.to_html(\"cables_deckgl.html\", css_background_color=\"#333\")"
   ]
  }
 ],
 "metadata": {
  "kernelspec": {
   "display_name": "Python 3",
   "language": "python",
   "name": "python3"
  },
  "language_info": {
   "codemirror_mode": {
    "name": "ipython",
    "version": 3
   },
   "file_extension": ".py",
   "mimetype": "text/x-python",
   "name": "python",
   "nbconvert_exporter": "python",
   "pygments_lexer": "ipython3",
   "version": "3.8.8"
  }
 },
 "nbformat": 4,
 "nbformat_minor": 5
}

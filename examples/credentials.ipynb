{
 "cells": [
  {
   "cell_type": "markdown",
   "metadata": {},
   "source": [
    "# Credentials\n",
    "\n",
    "Some tools/services require credentials to be used which have to be provided when using them. Usually this is either an API key or some text file. API keys, must be set in each notebook. A credentials file needs to be created only once upfront:"
   ]
  },
  {
   "cell_type": "markdown",
   "metadata": {},
   "source": [
    "## Environment variables\n",
    "\n",
    "These need to be set in every notebook using them (unless you set them when building a server like in a fork of this repo) like this:"
   ]
  },
  {
   "cell_type": "code",
   "execution_count": null,
   "metadata": {},
   "outputs": [],
   "source": [
    "import os\n",
    "os.environ[\"API_KEY\"] = \"FOOBAR\""
   ]
  },
  {
   "cell_type": "markdown",
   "metadata": {},
   "source": [
    "## Files\n",
    "\n",
    "Files can be easily created inside a Jupyter terminal of the running server:\n",
    "\n",
    "```bash\n",
    "$ mkdir ~/.foo\n",
    "$ cat <<EOT >> ~/.foo/secret.txt\n",
    "so.secret = really\n",
    "super.secret = definitely\n",
    "EOT\n",
    "```"
   ]
  },
  {
   "cell_type": "markdown",
   "metadata": {},
   "source": [
    "or inside a cell like this with a little convenience function:"
   ]
  },
  {
   "cell_type": "code",
   "execution_count": null,
   "metadata": {},
   "outputs": [],
   "source": [
    "from utils import save_credentials_ui\n",
    "save_credentials_ui(\"~/.foo/secret.txt\")"
   ]
  },
  {
   "cell_type": "markdown",
   "metadata": {},
   "source": [
    "## Interactive\n",
    "\n",
    "Other services might use their own mechanism, like Google Earth Engine which will ask you to create a token on their site."
   ]
  }
 ],
 "metadata": {
  "kernelspec": {
   "display_name": "Python 3",
   "language": "python",
   "name": "python3"
  },
  "language_info": {
   "codemirror_mode": {
    "name": "ipython",
    "version": 3
   },
   "file_extension": ".py",
   "mimetype": "text/x-python",
   "name": "python",
   "nbconvert_exporter": "python",
   "pygments_lexer": "ipython3",
   "version": "3.8.8"
  }
 },
 "nbformat": 4,
 "nbformat_minor": 4
}

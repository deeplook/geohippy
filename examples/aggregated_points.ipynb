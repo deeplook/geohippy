{
  "cells": [
    {
      "cell_type": "markdown",
      "source": [
        "# Aggregated points\n",
        "\n",
        "From https://towardsdatascience.com/big-data-visualization-using-datashader-in-python-c3fd00b9b6fc.\n",
        "A more detailed version is available on https://examples.pyviz.org/nyc_taxi/nyc_taxi.html."
      ],
      "metadata": {
        "nteract": {
          "transient": {
            "deleting": false
          }
        }
      },
      "id": "5487caa0-629b-4625-a1fd-00a94d210a79"
    },
    {
      "cell_type": "code",
      "source": [
        "import colorcet as cc\n",
        "import holoviews as hv\n",
        "import pandas as pd\n",
        "from holoviews.element.tiles import EsriImagery\n",
        "from holoviews.operation.datashader import datashade\n",
        "\n",
        "hv.extension('bokeh')"
      ],
      "outputs": [],
      "execution_count": null,
      "metadata": {
        "execution": {
          "iopub.status.busy": "2021-10-15T20:29:09.326Z",
          "iopub.execute_input": "2021-10-15T20:29:09.332Z"
        }
      },
      "id": "2de4075f-056e-4ccd-bfc8-810fdef6f840"
    },
    {
      "cell_type": "code",
      "source": [
        "df = pd.read_parquet(\n",
        "    \"https://s3.amazonaws.com/datashader-data/nyc_taxi_wide.parq\",\n",
        "    columns = [\"dropoff_x\", \"dropoff_y\"]\n",
        ")"
      ],
      "outputs": [],
      "execution_count": null,
      "metadata": {},
      "id": "36d823c6-cbfb-42c0-a30e-0f2a579a9f00"
    },
    {
      "cell_type": "code",
      "source": [
        "len(df)"
      ],
      "outputs": [],
      "execution_count": null,
      "metadata": {},
      "id": "ecc145bb-cc2f-4b6b-ae72-99dab6fa4371"
    },
    {
      "cell_type": "code",
      "source": [
        "df.head()"
      ],
      "outputs": [],
      "execution_count": null,
      "metadata": {},
      "id": "f5b8c1fc-fd6e-438b-be29-b40d79e60b92"
    },
    {
      "cell_type": "code",
      "source": [
        "%%time\n",
        "map_tiles  = EsriImagery().opts(alpha=0.5, width=900, height=480, bgcolor=\"black\")\n",
        "points     = hv.Points(df, [\"dropoff_x\", \"dropoff_y\"])\n",
        "taxi_trips = datashade(points, cmap=cc.fire, width=900, height=480)\n",
        "\n",
        "map_tiles * taxi_trips"
      ],
      "outputs": [],
      "execution_count": null,
      "metadata": {},
      "id": "5eddf5cc-5943-4131-aa08-9b071a0c6439"
    }
  ],
  "metadata": {
    "kernelspec": {
      "display_name": "Python 3 (ipykernel)",
      "language": "python",
      "name": "python3"
    },
    "language_info": {
      "name": "python",
      "version": "3.8.0",
      "mimetype": "text/x-python",
      "codemirror_mode": {
        "name": "ipython",
        "version": 3
      },
      "pygments_lexer": "ipython3",
      "nbconvert_exporter": "python",
      "file_extension": ".py"
    },
    "nteract": {
      "version": "0.28.0"
    }
  },
  "nbformat": 4,
  "nbformat_minor": 5
}
